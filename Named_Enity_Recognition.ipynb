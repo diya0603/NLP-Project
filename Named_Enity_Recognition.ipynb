{
  "nbformat": 4,
  "nbformat_minor": 0,
  "metadata": {
    "colab": {
      "provenance": [],
      "gpuType": "T4",
      "include_colab_link": true
    },
    "kernelspec": {
      "name": "python3",
      "display_name": "Python 3"
    },
    "language_info": {
      "name": "python"
    },
    "accelerator": "GPU"
  },
  "cells": [
    {
      "cell_type": "markdown",
      "metadata": {
        "id": "view-in-github",
        "colab_type": "text"
      },
      "source": [
        "<a href=\"https://colab.research.google.com/github/diya0603/NLP-Project/blob/main/Named_Enity_Recognition.ipynb\" target=\"_parent\"><img src=\"https://colab.research.google.com/assets/colab-badge.svg\" alt=\"Open In Colab\"/></a>"
      ]
    },
    {
      "cell_type": "markdown",
      "source": [
        "NER task using ClinicalBERT"
      ],
      "metadata": {
        "id": "lh8tdQhtYvdC"
      }
    },
    {
      "cell_type": "code",
      "execution_count": null,
      "metadata": {
        "id": "uG0hNvu9Gs6e"
      },
      "outputs": [],
      "source": [
        "import numpy as np\n",
        "import pandas as pd"
      ]
    },
    {
      "cell_type": "code",
      "source": [
        "import os\n",
        "import json\n",
        "import csv"
      ],
      "metadata": {
        "id": "_mNnjNNkZSro"
      },
      "execution_count": null,
      "outputs": []
    },
    {
      "cell_type": "code",
      "source": [
        "! pip install transformers"
      ],
      "metadata": {
        "colab": {
          "base_uri": "https://localhost:8080/"
        },
        "id": "_mydl_oNZfcq",
        "outputId": "bdcef45a-3d87-43d0-d024-83e282b5a8d2"
      },
      "execution_count": null,
      "outputs": [
        {
          "output_type": "stream",
          "name": "stdout",
          "text": [
            "Looking in indexes: https://pypi.org/simple, https://us-python.pkg.dev/colab-wheels/public/simple/\n",
            "Collecting transformers\n",
            "  Downloading transformers-4.30.2-py3-none-any.whl (7.2 MB)\n",
            "\u001b[2K     \u001b[90m━━━━━━━━━━━━━━━━━━━━━━━━━━━━━━━━━━━━━━━━\u001b[0m \u001b[32m7.2/7.2 MB\u001b[0m \u001b[31m74.6 MB/s\u001b[0m eta \u001b[36m0:00:00\u001b[0m\n",
            "\u001b[?25hRequirement already satisfied: filelock in /usr/local/lib/python3.10/dist-packages (from transformers) (3.12.0)\n",
            "Collecting huggingface-hub<1.0,>=0.14.1 (from transformers)\n",
            "  Downloading huggingface_hub-0.15.1-py3-none-any.whl (236 kB)\n",
            "\u001b[2K     \u001b[90m━━━━━━━━━━━━━━━━━━━━━━━━━━━━━━━━━━━━━━\u001b[0m \u001b[32m236.8/236.8 kB\u001b[0m \u001b[31m29.9 MB/s\u001b[0m eta \u001b[36m0:00:00\u001b[0m\n",
            "\u001b[?25hRequirement already satisfied: numpy>=1.17 in /usr/local/lib/python3.10/dist-packages (from transformers) (1.22.4)\n",
            "Requirement already satisfied: packaging>=20.0 in /usr/local/lib/python3.10/dist-packages (from transformers) (23.1)\n",
            "Requirement already satisfied: pyyaml>=5.1 in /usr/local/lib/python3.10/dist-packages (from transformers) (6.0)\n",
            "Requirement already satisfied: regex!=2019.12.17 in /usr/local/lib/python3.10/dist-packages (from transformers) (2022.10.31)\n",
            "Requirement already satisfied: requests in /usr/local/lib/python3.10/dist-packages (from transformers) (2.27.1)\n",
            "Collecting tokenizers!=0.11.3,<0.14,>=0.11.1 (from transformers)\n",
            "  Downloading tokenizers-0.13.3-cp310-cp310-manylinux_2_17_x86_64.manylinux2014_x86_64.whl (7.8 MB)\n",
            "\u001b[2K     \u001b[90m━━━━━━━━━━━━━━━━━━━━━━━━━━━━━━━━━━━━━━━━\u001b[0m \u001b[32m7.8/7.8 MB\u001b[0m \u001b[31m96.2 MB/s\u001b[0m eta \u001b[36m0:00:00\u001b[0m\n",
            "\u001b[?25hCollecting safetensors>=0.3.1 (from transformers)\n",
            "  Downloading safetensors-0.3.1-cp310-cp310-manylinux_2_17_x86_64.manylinux2014_x86_64.whl (1.3 MB)\n",
            "\u001b[2K     \u001b[90m━━━━━━━━━━━━━━━━━━━━━━━━━━━━━━━━━━━━━━━━\u001b[0m \u001b[32m1.3/1.3 MB\u001b[0m \u001b[31m60.4 MB/s\u001b[0m eta \u001b[36m0:00:00\u001b[0m\n",
            "\u001b[?25hRequirement already satisfied: tqdm>=4.27 in /usr/local/lib/python3.10/dist-packages (from transformers) (4.65.0)\n",
            "Requirement already satisfied: fsspec in /usr/local/lib/python3.10/dist-packages (from huggingface-hub<1.0,>=0.14.1->transformers) (2023.4.0)\n",
            "Requirement already satisfied: typing-extensions>=3.7.4.3 in /usr/local/lib/python3.10/dist-packages (from huggingface-hub<1.0,>=0.14.1->transformers) (4.5.0)\n",
            "Requirement already satisfied: urllib3<1.27,>=1.21.1 in /usr/local/lib/python3.10/dist-packages (from requests->transformers) (1.26.15)\n",
            "Requirement already satisfied: certifi>=2017.4.17 in /usr/local/lib/python3.10/dist-packages (from requests->transformers) (2022.12.7)\n",
            "Requirement already satisfied: charset-normalizer~=2.0.0 in /usr/local/lib/python3.10/dist-packages (from requests->transformers) (2.0.12)\n",
            "Requirement already satisfied: idna<4,>=2.5 in /usr/local/lib/python3.10/dist-packages (from requests->transformers) (3.4)\n",
            "Installing collected packages: tokenizers, safetensors, huggingface-hub, transformers\n",
            "Successfully installed huggingface-hub-0.15.1 safetensors-0.3.1 tokenizers-0.13.3 transformers-4.30.2\n"
          ]
        }
      ]
    },
    {
      "cell_type": "code",
      "source": [
        "from tqdm import tqdm, trange\n",
        "from google.colab import drive\n",
        "drive.mount('/content/drive')\n",
        "data=pd.read_csv('/content/drive/MyDrive/train.csv').fillna(method='ffill')\n",
        "data.head(50)\n",
        "# data=data[:70006]"
      ],
      "metadata": {
        "id": "5OSN6J8jaKho"
      },
      "execution_count": null,
      "outputs": []
    },
    {
      "cell_type": "code",
      "source": [
        "class SentenceGetter(object):\n",
        "\n",
        "  def __init__(self, data):\n",
        "    self.n_sent = 1\n",
        "    self.data = data\n",
        "    self.empty = False\n",
        "\n",
        "    agg_func = lambda s: [(w, t) for w, t in zip(s['Word'].values.tolist(), s['tag'].values.tolist())]\n",
        "    self.grouped = self.data.groupby('Sent_ID').apply(agg_func)\n",
        "    self.sentences = [s for s in self.grouped]\n",
        "\n",
        "  def get_next(self):\n",
        "    try:\n",
        "      s = self.grouped['{}'.format(self.n_sent)]\n",
        "      self.n_sent +=1\n",
        "      return s\n",
        "    except:\n",
        "      return None\n"
      ],
      "metadata": {
        "id": "hYbyzOdNrdEE"
      },
      "execution_count": null,
      "outputs": []
    },
    {
      "cell_type": "code",
      "source": [
        "getter = SentenceGetter(data)"
      ],
      "metadata": {
        "id": "2D_Mn5S7sxKi"
      },
      "execution_count": null,
      "outputs": []
    },
    {
      "cell_type": "code",
      "source": [
        "sentences = [[word[0] for word in sentence] for sentence in getter.sentences]\n",
        "print(sentences[0])"
      ],
      "metadata": {
        "id": "JZfYgAyhsgQX",
        "colab": {
          "base_uri": "https://localhost:8080/"
        },
        "outputId": "a536333c-a7d2-4039-b414-9b9624b988b1"
      },
      "execution_count": null,
      "outputs": [
        {
          "output_type": "stream",
          "name": "stdout",
          "text": [
            "['Obesity', 'in', 'Low-', 'and', 'Middle-Income', 'Countries', ':', 'Burden', ',', 'Drivers', ',', 'and', 'Emerging', 'Challenges', '.']\n"
          ]
        }
      ]
    },
    {
      "cell_type": "code",
      "source": [
        "labels = [[s[1] for s in sentence] for sentence in getter.sentences]\n",
        "print(labels[0])"
      ],
      "metadata": {
        "id": "U-7HaCu1tU31",
        "colab": {
          "base_uri": "https://localhost:8080/"
        },
        "outputId": "0e00a595-7d9d-4bb7-cd2e-6b7812dde485"
      },
      "execution_count": null,
      "outputs": [
        {
          "output_type": "stream",
          "name": "stdout",
          "text": [
            "['O', 'O', 'O', 'O', 'O', 'O', 'O', 'O', 'O', 'O', 'O', 'O', 'O', 'O', 'O']\n"
          ]
        }
      ]
    },
    {
      "cell_type": "code",
      "source": [
        "tag_values = list(set(data[\"tag\"].values))\n",
        "tag_values.append(\"PAD\")\n",
        "tag2idx = {t: i for i, t in enumerate(tag_values)}\n",
        "#Padding is addded end of each sentence\n",
        "tag2idx"
      ],
      "metadata": {
        "id": "exWfdKrete1F",
        "colab": {
          "base_uri": "https://localhost:8080/"
        },
        "outputId": "b8137acc-d084-411c-e138-34542a337d8d"
      },
      "execution_count": null,
      "outputs": [
        {
          "output_type": "execute_result",
          "data": {
            "text/plain": [
              "{'B-indications': 0, 'O': 1, 'I-indications': 2, 'PAD': 3}"
            ]
          },
          "metadata": {},
          "execution_count": 58
        }
      ]
    },
    {
      "cell_type": "markdown",
      "source": [
        "Preprocess the sentence nd labels. Prepare to use with pytorch and bert"
      ],
      "metadata": {
        "id": "phrCJ6Ostk4H"
      }
    },
    {
      "cell_type": "code",
      "source": [
        "import torch\n",
        "from torch.utils.data import TensorDataset, DataLoader, RandomSampler, SequentialSampler\n",
        "from transformers import AutoTokenizer, AutoModelForTokenClassification\n",
        "from keras.utils import pad_sequences\n",
        "from sklearn.model_selection import train_test_split\n"
      ],
      "metadata": {
        "id": "4C9vnFIMtgw0"
      },
      "execution_count": null,
      "outputs": []
    },
    {
      "cell_type": "code",
      "source": [
        "torch.__version__"
      ],
      "metadata": {
        "id": "m3xcMuS3t9Je",
        "colab": {
          "base_uri": "https://localhost:8080/",
          "height": 35
        },
        "outputId": "a338c1a1-7b76-4eb6-8d70-7bf3a7f473dd"
      },
      "execution_count": null,
      "outputs": [
        {
          "output_type": "execute_result",
          "data": {
            "text/plain": [
              "'2.0.1+cu118'"
            ],
            "application/vnd.google.colaboratory.intrinsic+json": {
              "type": "string"
            }
          },
          "metadata": {},
          "execution_count": 60
        }
      ]
    },
    {
      "cell_type": "code",
      "source": [
        "MAX_LEN = 75\n",
        "bs = 32\n",
        "#batch size = bs\n",
        "# sentence length fixed to 75 i.e. 75 tokens\n",
        "# but bert supports up to 512 tokens"
      ],
      "metadata": {
        "id": "Ove4KUAut-93"
      },
      "execution_count": null,
      "outputs": []
    },
    {
      "cell_type": "markdown",
      "source": [
        "Here we fix some configurations. We will limit our sequence length to 75 tokens and we will use a batch size of 32 as suggested by the Bert paper. Note, that Bert supports sequences of up to 512 tokens."
      ],
      "metadata": {
        "id": "U5FkdWkMussf"
      }
    },
    {
      "cell_type": "code",
      "source": [
        "device = torch.device(\"cuda\" if torch.cuda.is_available() else \"cpu\")\n",
        "n_gpu = torch.cuda.device_count()"
      ],
      "metadata": {
        "id": "PzKSxKOluwsJ"
      },
      "execution_count": null,
      "outputs": []
    },
    {
      "cell_type": "code",
      "source": [
        "torch.cuda.get_device_name(0)"
      ],
      "metadata": {
        "id": "bn6YHfVEuzgG",
        "colab": {
          "base_uri": "https://localhost:8080/",
          "height": 35
        },
        "outputId": "153c7e88-153d-4e02-9cad-f286a43734f0"
      },
      "execution_count": null,
      "outputs": [
        {
          "output_type": "execute_result",
          "data": {
            "text/plain": [
              "'Tesla T4'"
            ],
            "application/vnd.google.colaboratory.intrinsic+json": {
              "type": "string"
            }
          },
          "metadata": {},
          "execution_count": 64
        }
      ]
    },
    {
      "cell_type": "code",
      "source": [
        "tokenizer = AutoTokenizer.from_pretrained('emilyalsentzer/Bio_ClinicalBERT', do_lower_case=False)"
      ],
      "metadata": {
        "id": "Aswx4dOGu102"
      },
      "execution_count": null,
      "outputs": []
    },
    {
      "cell_type": "code",
      "source": [
        "\n",
        "def tokenize_and_preserve_labels(sentence, text_labels):\n",
        "    tokenized_sentence = []\n",
        "    labels = []\n",
        "\n",
        "    for word, label in zip(sentence, text_labels):\n",
        "\n",
        "        # Tokenize the word and count # of subwords the word is broken into\n",
        "        tokenized_word = tokenizer.tokenize(word)\n",
        "        n_subwords = len(tokenized_word)\n",
        "\n",
        "        # Add the tokenized word to the final tokenized word list\n",
        "        tokenized_sentence.extend(tokenized_word)\n",
        "\n",
        "        # Add the same label to the new list of labels `n_subwords` times\n",
        "        labels.extend([label] * n_subwords)\n",
        "\n",
        "    return tokenized_sentence, labels"
      ],
      "metadata": {
        "id": "9nnLhSxKvAkv"
      },
      "execution_count": null,
      "outputs": []
    },
    {
      "cell_type": "code",
      "source": [
        "tokenized_texts_and_labels = [\n",
        "    tokenize_and_preserve_labels(sent, labs)\n",
        "    for sent, labs in zip(sentences, labels)\n",
        "]"
      ],
      "metadata": {
        "id": "3p86PRSCvIgf"
      },
      "execution_count": null,
      "outputs": []
    },
    {
      "cell_type": "code",
      "source": [
        "tokenized_texts = [token_label_pair[0] for token_label_pair in tokenized_texts_and_labels]\n",
        "labels = [token_label_pair[1] for token_label_pair in tokenized_texts_and_labels]"
      ],
      "metadata": {
        "id": "tt0Fo16gvQxF"
      },
      "execution_count": null,
      "outputs": []
    },
    {
      "cell_type": "code",
      "source": [
        "\n",
        "input_ids = pad_sequences([tokenizer.convert_tokens_to_ids(txt) for txt in tokenized_texts],\n",
        "                          maxlen=MAX_LEN, dtype=\"long\", value=0.0,\n",
        "                          truncating=\"post\", padding=\"post\")"
      ],
      "metadata": {
        "id": "6LWPHkrVvT4-"
      },
      "execution_count": null,
      "outputs": []
    },
    {
      "cell_type": "code",
      "source": [
        "tags = pad_sequences([[tag2idx.get(l) for l in lab] for lab in labels],\n",
        "                     maxlen=MAX_LEN, value=tag2idx[\"PAD\"], padding=\"post\",\n",
        "                     dtype=\"long\", truncating=\"post\")"
      ],
      "metadata": {
        "id": "NobqbPAnvaDm"
      },
      "execution_count": null,
      "outputs": []
    },
    {
      "cell_type": "code",
      "source": [
        "tags"
      ],
      "metadata": {
        "colab": {
          "base_uri": "https://localhost:8080/"
        },
        "id": "uBaNP4zHN6Gw",
        "outputId": "e05d02eb-4812-4cd6-d3df-ce62d1e425f1"
      },
      "execution_count": null,
      "outputs": [
        {
          "output_type": "execute_result",
          "data": {
            "text/plain": [
              "array([[2, 2, 2, ..., 3, 3, 3],\n",
              "       [2, 2, 2, ..., 3, 3, 3],\n",
              "       [2, 2, 2, ..., 3, 3, 3],\n",
              "       ...,\n",
              "       [2, 2, 2, ..., 3, 3, 3],\n",
              "       [2, 2, 2, ..., 3, 3, 3],\n",
              "       [2, 2, 2, ..., 3, 3, 3]])"
            ]
          },
          "metadata": {},
          "execution_count": 25
        }
      ]
    },
    {
      "cell_type": "code",
      "source": [
        "#attenation mask to ignore PAD token\n",
        "attention_masks = [[float(i != 0.0) for i in ii] for ii in input_ids]"
      ],
      "metadata": {
        "id": "gU3CVl4ivdDe"
      },
      "execution_count": null,
      "outputs": []
    },
    {
      "cell_type": "code",
      "source": [
        "\n",
        "tr_inputs, val_inputs, tr_tags, val_tags = train_test_split(input_ids, tags,\n",
        "                                                            random_state=2018, test_size=0.1)\n",
        "tr_masks, val_masks, _, _ = train_test_split(attention_masks, input_ids,\n",
        "                                             random_state=2018, test_size=0.1)"
      ],
      "metadata": {
        "id": "51UZ44lcvdzv"
      },
      "execution_count": null,
      "outputs": []
    },
    {
      "cell_type": "code",
      "source": [
        "# convert to torch tenors\n",
        "tr_inputs = torch.tensor(tr_inputs)\n",
        "val_inputs = torch.tensor(val_inputs)\n",
        "tr_tags = torch.tensor(tr_tags)\n",
        "val_tags = torch.tensor(val_tags)\n",
        "tr_masks = torch.tensor(tr_masks)\n",
        "val_masks = torch.tensor(val_masks)"
      ],
      "metadata": {
        "id": "Mr1t0Qmuvg42"
      },
      "execution_count": null,
      "outputs": []
    },
    {
      "cell_type": "code",
      "source": [
        "#training time shuffling of the data and testing time we pass them sequentially\n",
        "train_data = TensorDataset(tr_inputs, tr_masks, tr_tags)\n",
        "train_sampler = RandomSampler(train_data)\n",
        "train_dataloader = DataLoader(train_data, sampler=train_sampler, batch_size=bs)\n",
        "\n",
        "valid_data = TensorDataset(val_inputs, val_masks, val_tags)\n",
        "valid_sampler = SequentialSampler(valid_data)\n",
        "valid_dataloader = DataLoader(valid_data, sampler=valid_sampler, batch_size=bs)"
      ],
      "metadata": {
        "id": "tzD90NZ_vo-_"
      },
      "execution_count": null,
      "outputs": []
    },
    {
      "cell_type": "markdown",
      "source": [
        "Fine Tune"
      ],
      "metadata": {
        "id": "O-I4FwyOvtUY"
      }
    },
    {
      "cell_type": "code",
      "source": [
        "import transformers\n",
        "from transformers import AdamW\n"
      ],
      "metadata": {
        "id": "Ps8xDDBtvsNQ"
      },
      "execution_count": null,
      "outputs": []
    },
    {
      "cell_type": "code",
      "source": [
        "model = AutoModelForTokenClassification.from_pretrained(\"emilyalsentzer/Bio_ClinicalBERT\",num_labels=len(tag2idx),output_attentions = False, output_hidden_states=False)"
      ],
      "metadata": {
        "id": "ZcBo9PCDv2LP",
        "colab": {
          "base_uri": "https://localhost:8080/"
        },
        "outputId": "1a83d727-7c84-4523-94fd-a44d62bdb451"
      },
      "execution_count": null,
      "outputs": [
        {
          "output_type": "stream",
          "name": "stderr",
          "text": [
            "Some weights of the model checkpoint at emilyalsentzer/Bio_ClinicalBERT were not used when initializing BertForTokenClassification: ['cls.predictions.decoder.weight', 'cls.seq_relationship.bias', 'cls.predictions.transform.LayerNorm.weight', 'cls.predictions.bias', 'cls.seq_relationship.weight', 'cls.predictions.transform.dense.weight', 'cls.predictions.transform.LayerNorm.bias', 'cls.predictions.transform.dense.bias']\n",
            "- This IS expected if you are initializing BertForTokenClassification from the checkpoint of a model trained on another task or with another architecture (e.g. initializing a BertForSequenceClassification model from a BertForPreTraining model).\n",
            "- This IS NOT expected if you are initializing BertForTokenClassification from the checkpoint of a model that you expect to be exactly identical (initializing a BertForSequenceClassification model from a BertForSequenceClassification model).\n",
            "Some weights of BertForTokenClassification were not initialized from the model checkpoint at emilyalsentzer/Bio_ClinicalBERT and are newly initialized: ['classifier.bias', 'classifier.weight']\n",
            "You should probably TRAIN this model on a down-stream task to be able to use it for predictions and inference.\n"
          ]
        }
      ]
    },
    {
      "cell_type": "code",
      "source": [
        "model.cuda();"
      ],
      "metadata": {
        "id": "b3wUwKJkwNKE"
      },
      "execution_count": null,
      "outputs": []
    },
    {
      "cell_type": "markdown",
      "source": [
        "AdamW optimizer for finetuning"
      ],
      "metadata": {
        "id": "WwvEc53lwPrv"
      }
    },
    {
      "cell_type": "markdown",
      "source": [
        "FULL_FINETUNING = True: This is a flag that determines whether full fine-tuning is enabled. If FULL_FINETUNING is True, the entire model will be fine-tuned. If it is False, only the parameters in the model's classifier (typically the last layer(s)) will be fine-tuned.\n",
        "\n",
        "param_optimizer = list(model.named_parameters()): This line retrieves the named parameters of the model. It obtains a list of tuples, where each tuple contains the name of a parameter and its corresponding value.\n",
        "\n",
        "no_decay = ['bias', 'gamma', 'beta']: This is a list of parameter names that will not undergo weight decay during optimization. Typically, bias terms (bias) and normalization parameters (gamma, beta) are excluded from weight decay to prevent undesired effects.\n",
        "\n",
        "optimizer_grouped_parameters: This variable is a list that will hold dictionaries defining the parameters and weight decay rates for the optimizer. It will be used to group the parameters based on whether they should undergo weight decay or not.\n",
        "\n",
        "If FULL_FINETUNING is True: The parameters are split into two groups. The first group includes parameters for which none of the names in no_decay appear (i.e., regular parameters), and they will have a weight decay rate of 0.01. The second group includes parameters for which any of the names in no_decay appear (i.e., parameters without weight decay), and they will have a weight decay rate of 0.0. This grouping facilitates applying different weight decay rates to different parameter groups.\n",
        "\n",
        "If FULL_FINETUNING is False: Only the parameters of the model's classifier are considered, and they are added to optimizer_grouped_parameters as a single group.\n",
        "\n",
        "optimizer = AdamW(optimizer_grouped_parameters, lr=3e-5, eps=1e-8): This line initializes the AdamW optimizer. It takes optimizer_grouped_parameters as the parameters to optimize. The learning rate (lr) is set to 3e-5, and eps represents a small value to prevent division by zero in the optimizer's calculations."
      ],
      "metadata": {
        "id": "y4oQKq2Cwyts"
      }
    },
    {
      "cell_type": "code",
      "source": [
        "FULL_FINETUNING = True\n",
        "if FULL_FINETUNING:\n",
        "    param_optimizer = list(model.named_parameters())\n",
        "    no_decay = ['bias', 'gamma', 'beta']\n",
        "    optimizer_grouped_parameters = [\n",
        "        {'params': [p for n, p in param_optimizer if not any(nd in n for nd in no_decay)],\n",
        "         'weight_decay_rate': 0.01},\n",
        "        {'params': [p for n, p in param_optimizer if any(nd in n for nd in no_decay)],\n",
        "         'weight_decay_rate': 0.0}\n",
        "    ]\n",
        "else:\n",
        "    param_optimizer = list(model.classifier.named_parameters())\n",
        "    optimizer_grouped_parameters = [{\"params\": [p for n, p in param_optimizer]}]\n",
        "\n",
        "optimizer = AdamW(\n",
        "    optimizer_grouped_parameters,\n",
        "    lr=3e-5,\n",
        "    eps=1e-8\n",
        ")"
      ],
      "metadata": {
        "id": "liee9e8gwO8t",
        "colab": {
          "base_uri": "https://localhost:8080/"
        },
        "outputId": "7ef8c4cb-d124-4f82-90bb-5c625cea330d"
      },
      "execution_count": null,
      "outputs": [
        {
          "output_type": "stream",
          "name": "stderr",
          "text": [
            "/usr/local/lib/python3.10/dist-packages/transformers/optimization.py:411: FutureWarning: This implementation of AdamW is deprecated and will be removed in a future version. Use the PyTorch implementation torch.optim.AdamW instead, or set `no_deprecation_warning=True` to disable this warning\n",
            "  warnings.warn(\n"
          ]
        }
      ]
    },
    {
      "cell_type": "code",
      "source": [
        "#schduler to reduce learning rate linearly throughout the epochs\n",
        "from transformers import get_linear_schedule_with_warmup\n",
        "\n",
        "epochs = 3\n",
        "max_grad_norm = 1.0\n",
        "\n",
        "# Total number of training steps is number of batches * number of epochs.\n",
        "total_steps = len(train_dataloader) * epochs\n",
        "\n",
        "# Create the learning rate scheduler.\n",
        "scheduler = get_linear_schedule_with_warmup(\n",
        "    optimizer,\n",
        "    num_warmup_steps=0,\n",
        "    num_training_steps=total_steps\n",
        ")"
      ],
      "metadata": {
        "id": "WCraBfPHwfYv"
      },
      "execution_count": null,
      "outputs": []
    },
    {
      "cell_type": "markdown",
      "source": [
        "Firt bert for ner"
      ],
      "metadata": {
        "id": "8EZbBwOVwkfv"
      }
    },
    {
      "cell_type": "code",
      "source": [
        "\n",
        "def flat_accuracy(preds, labels):\n",
        "    pred_flat = np.argmax(preds, axis=2).flatten()\n",
        "    labels_flat = labels.flatten()\n",
        "    return np.sum(pred_flat == labels_flat) / len(labels_flat)"
      ],
      "metadata": {
        "id": "KKI8mOS2wpk3"
      },
      "execution_count": null,
      "outputs": []
    },
    {
      "cell_type": "code",
      "source": [
        "## Store the average loss after each epoch so we can plot them.\n",
        "loss_values, validation_loss_values = [], []\n",
        "\n",
        "for _ in trange(epochs, desc=\"Epoch\"):\n",
        "    #Training\n",
        "    # Perform one full pass over the training set.\n",
        "\n",
        "    # Put the model into training mode.\n",
        "    model.train()\n",
        "    # Reset the total loss for this epoch.\n",
        "    total_loss = 0\n",
        "\n",
        "    # Training loop\n",
        "    for step, batch in enumerate(train_dataloader):\n",
        "        # add batch to gpu\n",
        "        batch = tuple(t.to(device) for t in batch)\n",
        "        b_input_ids, b_input_mask, b_labels = batch\n",
        "        # Always clear any previously calculated gradients before performing a backward pass.\n",
        "        model.zero_grad()\n",
        "        # forward pass\n",
        "        # This will return the loss (rather than the model output)\n",
        "        # because we have provided the `labels`.\n",
        "        outputs = model(b_input_ids, token_type_ids=None,\n",
        "                        attention_mask=b_input_mask, labels=b_labels)\n",
        "        # get the loss\n",
        "        loss = outputs[0]\n",
        "        # Perform a backward pass to calculate the gradients.\n",
        "        loss.backward()\n",
        "        # track train loss\n",
        "        total_loss += loss.item()\n",
        "        # Clip the norm of the gradient\n",
        "        # This is to help prevent the \"exploding gradients\" problem.\n",
        "        torch.nn.utils.clip_grad_norm_(parameters=model.parameters(), max_norm=max_grad_norm)\n",
        "        # update parameters\n",
        "        optimizer.step()\n",
        "        # Update the learning rate.\n",
        "        scheduler.step()\n",
        "\n",
        "    # Calculate the average loss over the training data.\n",
        "    avg_train_loss = total_loss / len(train_dataloader)\n",
        "    print(\"Average train loss: {}\".format(avg_train_loss))\n",
        "\n",
        "    # Store the loss value for plotting the learning curve.\n",
        "    loss_values.append(avg_train_loss)\n",
        "\n",
        "\n",
        "    #               Validation\n",
        "    # After the completion of each training epoch, measure our performance on\n",
        "    # our validation set.\n",
        "\n",
        "    # Put the model into evaluation mode\n",
        "    model.eval()\n",
        "    # Reset the validation loss for this epoch.\n",
        "    eval_loss, eval_accuracy = 0, 0\n",
        "    nb_eval_steps, nb_eval_examples = 0, 0\n",
        "    predictions , true_labels = [], []\n",
        "    for batch in valid_dataloader:\n",
        "        batch = tuple(t.to(device) for t in batch)\n",
        "        b_input_ids, b_input_mask, b_labels = batch\n",
        "\n",
        "        # Telling the model not to compute or store gradients,\n",
        "        # saving memory and speeding up validation\n",
        "        with torch.no_grad():\n",
        "            # Forward pass, calculate logit predictions.\n",
        "            # This will return the logits rather than the loss because we have not provided labels.\n",
        "            outputs = model(b_input_ids, token_type_ids=None,\n",
        "                            attention_mask=b_input_mask, labels=b_labels)\n",
        "        # Move logits and labels to CPU\n",
        "        logits = outputs[1].detach().cpu().numpy()\n",
        "        label_ids = b_labels.to('cpu').numpy()\n",
        "\n",
        "        # Calculate the accuracy for this batch of test sentences.\n",
        "        eval_loss += outputs[0].mean().item()\n",
        "        eval_accuracy += flat_accuracy(logits, label_ids)\n",
        "        predictions.extend([list(p) for p in np.argmax(logits, axis=2)])\n",
        "        true_labels.extend(label_ids)\n",
        "\n",
        "        nb_eval_examples += b_input_ids.size(0)\n",
        "        nb_eval_steps += 1\n",
        "\n",
        "    eval_loss = eval_loss / nb_eval_steps\n",
        "    validation_loss_values.append(eval_loss)\n",
        "    print(\"Validation loss: {}\".format(eval_loss))\n",
        "    print(\"Validation Accuracy: {}\".format(eval_accuracy/nb_eval_steps))\n",
        "    pred_tags = [tag_values[p_i] for p, l in zip(predictions, true_labels)\n",
        "                                 for p_i, l_i in zip(p, l) if tag_values[l_i] != \"PAD\"]\n",
        "    valid_tags = [tag_values[l_i] for l in true_labels\n",
        "                                  for l_i in l if tag_values[l_i] != \"PAD\"]\n",
        "    print()"
      ],
      "metadata": {
        "id": "jvyj_O1SwwXw",
        "colab": {
          "base_uri": "https://localhost:8080/"
        },
        "outputId": "13f6410e-5794-4b6b-b978-5c5f310c72c6"
      },
      "execution_count": null,
      "outputs": [
        {
          "output_type": "stream",
          "name": "stderr",
          "text": [
            "\rEpoch:   0%|          | 0/3 [00:00<?, ?it/s]"
          ]
        },
        {
          "output_type": "stream",
          "name": "stdout",
          "text": [
            "Average train loss: 0.025805184785694275\n",
            "Validation loss: 0.016787767390762206\n",
            "Validation Accuracy: 0.9944383221850583\n"
          ]
        },
        {
          "output_type": "stream",
          "name": "stderr",
          "text": [
            "\rEpoch:  33%|███▎      | 1/3 [42:09<1:24:19, 2529.69s/it]"
          ]
        },
        {
          "output_type": "stream",
          "name": "stdout",
          "text": [
            "\n",
            "Average train loss: 0.011735703979407763\n",
            "Validation loss: 0.01548701220188219\n",
            "Validation Accuracy: 0.9951318004459268\n"
          ]
        },
        {
          "output_type": "stream",
          "name": "stderr",
          "text": [
            "\rEpoch:  67%|██████▋   | 2/3 [1:24:19<42:09, 2529.71s/it]"
          ]
        },
        {
          "output_type": "stream",
          "name": "stdout",
          "text": [
            "\n",
            "Average train loss: 0.006418607395349668\n",
            "Validation loss: 0.015464913262411357\n",
            "Validation Accuracy: 0.9955615105908555\n"
          ]
        },
        {
          "output_type": "stream",
          "name": "stderr",
          "text": [
            "Epoch: 100%|██████████| 3/3 [2:06:28<00:00, 2529.59s/it]"
          ]
        },
        {
          "output_type": "stream",
          "name": "stdout",
          "text": [
            "\n"
          ]
        },
        {
          "output_type": "stream",
          "name": "stderr",
          "text": [
            "\n"
          ]
        }
      ]
    },
    {
      "cell_type": "markdown",
      "source": [
        "##LIME"
      ],
      "metadata": {
        "id": "pS9XZb2KCtpr"
      }
    },
    {
      "cell_type": "code",
      "source": [
        "!pip install eli5"
      ],
      "metadata": {
        "id": "TpSmRsmP_eQd",
        "colab": {
          "base_uri": "https://localhost:8080/"
        },
        "outputId": "d6c76d22-9d39-4896-f1dc-25887c472831"
      },
      "execution_count": null,
      "outputs": [
        {
          "output_type": "stream",
          "name": "stdout",
          "text": [
            "Looking in indexes: https://pypi.org/simple, https://us-python.pkg.dev/colab-wheels/public/simple/\n",
            "Requirement already satisfied: eli5 in /usr/local/lib/python3.10/dist-packages (0.13.0)\n",
            "Requirement already satisfied: attrs>17.1.0 in /usr/local/lib/python3.10/dist-packages (from eli5) (23.1.0)\n",
            "Requirement already satisfied: jinja2>=3.0.0 in /usr/local/lib/python3.10/dist-packages (from eli5) (3.1.2)\n",
            "Requirement already satisfied: numpy>=1.9.0 in /usr/local/lib/python3.10/dist-packages (from eli5) (1.22.4)\n",
            "Requirement already satisfied: scipy in /usr/local/lib/python3.10/dist-packages (from eli5) (1.10.1)\n",
            "Requirement already satisfied: six in /usr/local/lib/python3.10/dist-packages (from eli5) (1.16.0)\n",
            "Requirement already satisfied: scikit-learn>=0.20 in /usr/local/lib/python3.10/dist-packages (from eli5) (1.2.2)\n",
            "Requirement already satisfied: graphviz in /usr/local/lib/python3.10/dist-packages (from eli5) (0.20.1)\n",
            "Requirement already satisfied: tabulate>=0.7.7 in /usr/local/lib/python3.10/dist-packages (from eli5) (0.8.10)\n",
            "Requirement already satisfied: MarkupSafe>=2.0 in /usr/local/lib/python3.10/dist-packages (from jinja2>=3.0.0->eli5) (2.1.2)\n",
            "Requirement already satisfied: joblib>=1.1.1 in /usr/local/lib/python3.10/dist-packages (from scikit-learn>=0.20->eli5) (1.2.0)\n",
            "Requirement already satisfied: threadpoolctl>=2.0.0 in /usr/local/lib/python3.10/dist-packages (from scikit-learn>=0.20->eli5) (3.1.0)\n"
          ]
        }
      ]
    },
    {
      "cell_type": "code",
      "source": [
        "!pip install scipy"
      ],
      "metadata": {
        "id": "OC1pBZr4_rmX",
        "colab": {
          "base_uri": "https://localhost:8080/"
        },
        "outputId": "bc0133b2-4bbd-446a-81a3-65b59446b5a3"
      },
      "execution_count": null,
      "outputs": [
        {
          "output_type": "stream",
          "name": "stdout",
          "text": [
            "Looking in indexes: https://pypi.org/simple, https://us-python.pkg.dev/colab-wheels/public/simple/\n",
            "Requirement already satisfied: scipy in /usr/local/lib/python3.10/dist-packages (1.10.1)\n",
            "Requirement already satisfied: numpy<1.27.0,>=1.19.5 in /usr/local/lib/python3.10/dist-packages (from scipy) (1.22.4)\n"
          ]
        }
      ]
    },
    {
      "cell_type": "code",
      "source": [
        "import scipy\n",
        "import numpy as np\n",
        "def monkeypath_itemfreq(sampler_indices):\n",
        "   return zip(*np.unique(sampler_indices, return_counts=True))\n",
        "\n",
        "scipy.stats.itemfreq=monkeypath_itemfreq"
      ],
      "metadata": {
        "id": "oSH33ev0QNlp"
      },
      "execution_count": null,
      "outputs": []
    },
    {
      "cell_type": "code",
      "source": [
        "from eli5.lime import TextExplainer\n",
        "from eli5.lime.samplers import MaskingTextSampler"
      ],
      "metadata": {
        "id": "EiR9pULH_bAv"
      },
      "execution_count": null,
      "outputs": []
    },
    {
      "cell_type": "code",
      "source": [
        "import torch.nn.functional as F"
      ],
      "metadata": {
        "id": "_brTsZtmaDQ0"
      },
      "execution_count": null,
      "outputs": []
    },
    {
      "cell_type": "code",
      "source": [
        "! pip install nltk"
      ],
      "metadata": {
        "id": "NvoQC88KYTTT",
        "colab": {
          "base_uri": "https://localhost:8080/"
        },
        "outputId": "6288e232-a468-49e1-f5a5-5e28580ca313"
      },
      "execution_count": null,
      "outputs": [
        {
          "output_type": "stream",
          "name": "stdout",
          "text": [
            "Looking in indexes: https://pypi.org/simple, https://us-python.pkg.dev/colab-wheels/public/simple/\n",
            "Requirement already satisfied: nltk in /usr/local/lib/python3.10/dist-packages (3.8.1)\n",
            "Requirement already satisfied: click in /usr/local/lib/python3.10/dist-packages (from nltk) (8.1.3)\n",
            "Requirement already satisfied: joblib in /usr/local/lib/python3.10/dist-packages (from nltk) (1.2.0)\n",
            "Requirement already satisfied: regex>=2021.8.3 in /usr/local/lib/python3.10/dist-packages (from nltk) (2022.10.31)\n",
            "Requirement already satisfied: tqdm in /usr/local/lib/python3.10/dist-packages (from nltk) (4.65.0)\n"
          ]
        }
      ]
    },
    {
      "cell_type": "code",
      "source": [
        "class NERExplainerGenerator1(object):\n",
        "    def __init__(self, model):\n",
        "        self.model = model\n",
        "\n",
        "    def dict2vec(self, pred):\n",
        "        vectors = []\n",
        "        for sent in pred:\n",
        "            sent_res = []\n",
        "            for word_probs in sent:\n",
        "                vector = [word_probs[class_idx] for class_idx in range(4)]\n",
        "                sent_res.append(vector)\n",
        "            sent_res = np.array(sent_res)\n",
        "            vectors.append(sent_res)\n",
        "        vectors = np.array(vectors)\n",
        "        return vectors\n",
        "\n",
        "    def get_predict_function(self, word_index):\n",
        "        def predict_func(texts):\n",
        "            token_probabilities_list = []\n",
        "            for sentence in texts:\n",
        "                tokenized_sentence = tokenizer.encode(sentence, add_special_tokens=True)\n",
        "                input_ids = torch.tensor([tokenized_sentence]).cuda()\n",
        "                with torch.no_grad():\n",
        "                    output = model(input_ids)\n",
        "                logits = output[0]\n",
        "                class_probabilities = F.softmax(logits, dim=2)\n",
        "                token_probabilities = class_probabilities[0]\n",
        "                token_probabilities = token_probabilities.to('cpu').numpy()\n",
        "                token_probabilities_list.append(token_probabilities)\n",
        "            pred = np.array(token_probabilities_list, dtype=object)\n",
        "            # Filter out the \"PAD\" class probabilities\n",
        "            max_words = max(len(subarray) for subarray in pred)  # Determine the maximum number of words in a subarray\n",
        "\n",
        "            # Pad the subarrays with zeros to make them the same size\n",
        "            padded_pred = [np.pad(subarray, [(0, max_words - len(subarray)), (0, 0)], mode='constant') for subarray in pred]\n",
        "\n",
        "            pred_3d = np.array(padded_pred)\n",
        "            # Filter out the \"PAD\" class probabilities\n",
        "            pred_3d=np.delete(pred_3d,tag2idx['PAD'],axis=2)\n",
        "            pred_3d = pred_3d / np.sum(pred_3d, axis=2, keepdims=True)\n",
        "            return pred_3d[:, word_index, :]\n",
        "        return predict_func\n"
      ],
      "metadata": {
        "id": "ScVv9241Wq1m"
      },
      "execution_count": null,
      "outputs": []
    },
    {
      "cell_type": "code",
      "source": [
        "text = 'Patient presented with severe abdominal pain and vomiting. CT scan revealed a 5 cm mass in the liver. Liver biopsy confirmed hepatocellular carcinoma.'\n",
        "explainer1= NERExplainerGenerator1(model)\n",
        "import nltk\n",
        "from nltk.tokenize import word_tokenize\n",
        "nltk.download('punkt')\n",
        "\n",
        "for index,word in enumerate(word_tokenize(text)):\n",
        "  print(index,word)"
      ],
      "metadata": {
        "colab": {
          "base_uri": "https://localhost:8080/"
        },
        "id": "vQxR5nSmW22W",
        "outputId": "0cd5d73f-51c0-4915-e3b3-1a307a5842a1"
      },
      "execution_count": null,
      "outputs": [
        {
          "output_type": "stream",
          "name": "stdout",
          "text": [
            "0 Patient\n",
            "1 presented\n",
            "2 with\n",
            "3 severe\n",
            "4 abdominal\n",
            "5 pain\n",
            "6 and\n",
            "7 vomiting\n",
            "8 .\n",
            "9 CT\n",
            "10 scan\n",
            "11 revealed\n",
            "12 a\n",
            "13 5\n",
            "14 cm\n",
            "15 mass\n",
            "16 in\n",
            "17 the\n",
            "18 liver\n",
            "19 .\n",
            "20 Liver\n",
            "21 biopsy\n",
            "22 confirmed\n",
            "23 hepatocellular\n",
            "24 carcinoma\n",
            "25 .\n"
          ]
        },
        {
          "output_type": "stream",
          "name": "stderr",
          "text": [
            "[nltk_data] Downloading package punkt to /root/nltk_data...\n",
            "[nltk_data]   Package punkt is already up-to-date!\n"
          ]
        }
      ]
    },
    {
      "cell_type": "code",
      "source": [
        "word_index = 7 #explain vomitting\n",
        "\n",
        "func1 = explainer1.get_predict_function(word_index)\n",
        "sampler = MaskingTextSampler( replacement=\"UNK\",max_replace=0.7,token_pattern=None,bow=False)\n",
        "samples, similarity = sampler.sample_near(text, n_samples=4)\n",
        "print(samples)"
      ],
      "metadata": {
        "colab": {
          "base_uri": "https://localhost:8080/"
        },
        "id": "9xroEAe-XHQ-",
        "outputId": "ddb0e514-c8a7-44d0-fc86-8721556fee49"
      },
      "execution_count": null,
      "outputs": [
        {
          "output_type": "stream",
          "name": "stdout",
          "text": [
            "('Patient UNK with severe UNK pain and UNK. CT scan UNK UNK 5 cm mass in the UNK. Liver UNK UNK hepatocellular carcinoma.', 'Patient UNK UNK UNK UNK UNK UNK vomiting. CT UNK revealed a UNK cm UNK in the liver. Liver biopsy confirmed hepatocellular carcinoma.', 'Patient presented with severe abdominal UNK UNK vomiting. CT scan revealed UNK 5 cm UNK in the liver. Liver biopsy confirmed hepatocellular carcinoma.', 'Patient UNK UNK UNK UNK UNK UNK UNK. CT UNK UNK a UNK UNK UNK in UNK liver. Liver biopsy UNK UNK UNK.')\n"
          ]
        }
      ]
    },
    {
      "cell_type": "code",
      "source": [
        "te = TextExplainer(sampler=sampler, position_dependent=True, random_state=42)\n",
        "te.fit(text, func1)\n",
        "\n",
        "# The explainer needs just the one instance text from texts list\n",
        "explain = te.explain_prediction(target_names=list(tag2idx.keys()), top_targets=3)\n",
        "print(\"WORD TO EXPLAIN\", word_tokenize(text)[word_index])\n",
        "explain"
      ],
      "metadata": {
        "id": "FqwCGDBzWzyj",
        "colab": {
          "base_uri": "https://localhost:8080/",
          "height": 633
        },
        "outputId": "d04ed9ce-5783-42a1-c6d0-4e476ac9513b"
      },
      "execution_count": null,
      "outputs": [
        {
          "output_type": "stream",
          "name": "stderr",
          "text": [
            "<ipython-input-105-393c43285a00>:43: RuntimeWarning: invalid value encountered in true_divide\n",
            "  pred_3d = pred_3d / np.sum(pred_3d, axis=2, keepdims=True)\n",
            "/usr/local/lib/python3.10/dist-packages/sklearn/linear_model/_stochastic_gradient.py:163: FutureWarning: The loss 'log' was deprecated in v1.1 and will be removed in version 1.3. Use `loss='log_loss'` which is equivalent.\n",
            "  warnings.warn(\n"
          ]
        },
        {
          "output_type": "stream",
          "name": "stdout",
          "text": [
            "WORD TO EXPLAIN vomiting\n"
          ]
        },
        {
          "output_type": "execute_result",
          "data": {
            "text/plain": [
              "Explanation(estimator=\"SGDClassifier(alpha=0.001, loss='log', penalty='elasticnet',\\n              random_state=RandomState(MT19937) at 0x7FCF94F7FB40)\", description=None, error=None, method='linear model', is_regression=False, targets=[TargetExplanation(target='O', feature_weights=FeatureWeights(pos=[FeatureWeight(feature='<BIAS>', weight=7.57534940968349, std=None, value=1.0), FeatureWeight(feature='[0] Patient', weight=0.08020087054793075, std=None, value=1.0)], neg=[FeatureWeight(feature='[4] abdominal', weight=-1.904413386847513, std=None, value=1.0), FeatureWeight(feature='[5] pain', weight=-1.7766937041935704, std=None, value=1.0), FeatureWeight(feature='[3] severe', weight=-0.7112620950609526, std=None, value=1.0), FeatureWeight(feature='[1] presented', weight=-0.5162216362178383, std=None, value=1.0), FeatureWeight(feature='[2] with', weight=-0.35400063319387626, std=None, value=1.0), FeatureWeight(feature='[7] vomiting', weight=-0.22775890952288408, std=None, value=1.0), FeatureWeight(feature='[20] confirmed', weight=-0.13138770730611712, std=None, value=1.0), FeatureWeight(feature='[13] cm', weight=-0.11348911560300477, std=None, value=1.0), FeatureWeight(feature='[9] scan', weight=-0.11185611710027261, std=None, value=1.0), FeatureWeight(feature='[6] and', weight=-0.10896803208460515, std=None, value=1.0), FeatureWeight(feature='[8] CT', weight=-0.06684786427203894, std=None, value=1.0), FeatureWeight(feature='[18] Liver', weight=-0.05702250188285243, std=None, value=1.0), FeatureWeight(feature='[22] carcinoma', weight=-0.04941203878224833, std=None, value=1.0), FeatureWeight(feature='[17] liver', weight=-0.048452417317959316, std=None, value=1.0), FeatureWeight(feature='[14] mass', weight=-0.02815170180590399, std=None, value=1.0), FeatureWeight(feature='[11] a', weight=-0.026003434151236363, std=None, value=1.0), FeatureWeight(feature='[10] revealed', weight=-0.018343487385030426, std=None, value=1.0), FeatureWeight(feature='[16] the', weight=-0.013053952717849983, std=None, value=1.0), FeatureWeight(feature='[21] hepatocellular', weight=-0.012720085193100767, std=None, value=1.0)], pos_remaining=0, neg_remaining=0), proba=0.8281326701682487, score=1.3794914595925656, weighted_spans=WeightedSpans(docs_weighted_spans=[DocWeightedSpans(document='Patient presented with severe abdominal pain and vomiting. CT scan revealed a 5 cm mass in the liver. Liver biopsy confirmed hepatocellular carcinoma.', spans=[('Patient', [(0, 7)], 0.08020087054793075), ('presented', [(8, 17)], -0.5162216362178383), ('with', [(18, 22)], -0.35400063319387626), ('severe', [(23, 29)], -0.7112620950609526), ('abdominal', [(30, 39)], -1.904413386847513), ('pain', [(40, 44)], -1.7766937041935704), ('and', [(45, 48)], -0.10896803208460515), ('vomiting', [(49, 57)], -0.22775890952288408), ('CT', [(59, 61)], -0.06684786427203894), ('scan', [(62, 66)], -0.11185611710027261), ('revealed', [(67, 75)], -0.018343487385030426), ('a', [(76, 77)], -0.026003434151236363), ('cm', [(80, 82)], -0.11348911560300477), ('mass', [(83, 87)], -0.02815170180590399), ('the', [(91, 94)], -0.013053952717849983), ('liver', [(95, 100)], -0.048452417317959316), ('Liver', [(102, 107)], -0.05702250188285243), ('confirmed', [(115, 124)], -0.13138770730611712), ('hepatocellular', [(125, 139)], -0.012720085193100767), ('carcinoma', [(140, 149)], -0.04941203878224833)], preserve_density=False, vec_name=None)], other=FeatureWeights(pos=[FeatureWeight(feature='<BIAS>', weight=7.57534940968349, std=None, value=1.0)], neg=[FeatureWeight(feature=<FormattedFeatureName 'Highlighted in text (sum)'>, weight=-6.195857950090924, std=None, value=None)], pos_remaining=0, neg_remaining=0)), heatmap=None), TargetExplanation(target='I-indications', feature_weights=FeatureWeights(pos=[FeatureWeight(feature='[4] abdominal', weight=1.4362241510522236, std=None, value=1.0), FeatureWeight(feature='[5] pain', weight=1.2681097618456652, std=None, value=1.0), FeatureWeight(feature='[3] severe', weight=1.259054944267012, std=None, value=1.0), FeatureWeight(feature='[1] presented', weight=1.0160409603077423, std=None, value=1.0), FeatureWeight(feature='[2] with', weight=0.7870605865484412, std=None, value=1.0), FeatureWeight(feature='[6] and', weight=0.25651124014077803, std=None, value=1.0), FeatureWeight(feature='[21] hepatocellular', weight=0.18729116785605615, std=None, value=1.0), FeatureWeight(feature='[7] vomiting', weight=0.11636453310725528, std=None, value=1.0), FeatureWeight(feature='[20] confirmed', weight=0.08688633481156725, std=None, value=1.0), FeatureWeight(feature='[8] CT', weight=0.08297858231656022, std=None, value=1.0), FeatureWeight(feature='[19] biopsy', weight=0.06962833921841365, std=None, value=1.0), FeatureWeight(feature='[15] in', weight=0.06474813157511203, std=None, value=1.0), FeatureWeight(feature='[9] scan', weight=0.055171559554594345, std=None, value=1.0), FeatureWeight(feature='[17] liver', weight=0.050789297613042905, std=None, value=1.0), FeatureWeight(feature='[13] cm', weight=0.040592561243398606, std=None, value=1.0), FeatureWeight(feature='[18] Liver', weight=0.03946847642818813, std=None, value=1.0), FeatureWeight(feature='[10] revealed', weight=0.037210009126605686, std=None, value=1.0), FeatureWeight(feature='[16] the', weight=0.0194511039608726, std=None, value=1.0), FeatureWeight(feature='[11] a', weight=0.0145143190026394, std=None, value=1.0), FeatureWeight(feature='[22] carcinoma', weight=0.00986455357872321, std=None, value=1.0)], neg=[FeatureWeight(feature='<BIAS>', weight=-9.112227498395114, std=None, value=1.0)], pos_remaining=0, neg_remaining=0), proba=0.10207879651791844, score=-2.214266884840222, weighted_spans=WeightedSpans(docs_weighted_spans=[DocWeightedSpans(document='Patient presented with severe abdominal pain and vomiting. CT scan revealed a 5 cm mass in the liver. Liver biopsy confirmed hepatocellular carcinoma.', spans=[('presented', [(8, 17)], 1.0160409603077423), ('with', [(18, 22)], 0.7870605865484412), ('severe', [(23, 29)], 1.259054944267012), ('abdominal', [(30, 39)], 1.4362241510522236), ('pain', [(40, 44)], 1.2681097618456652), ('and', [(45, 48)], 0.25651124014077803), ('vomiting', [(49, 57)], 0.11636453310725528), ('CT', [(59, 61)], 0.08297858231656022), ('scan', [(62, 66)], 0.055171559554594345), ('revealed', [(67, 75)], 0.037210009126605686), ('a', [(76, 77)], 0.0145143190026394), ('cm', [(80, 82)], 0.040592561243398606), ('in', [(88, 90)], 0.06474813157511203), ('the', [(91, 94)], 0.0194511039608726), ('liver', [(95, 100)], 0.050789297613042905), ('Liver', [(102, 107)], 0.03946847642818813), ('biopsy', [(108, 114)], 0.06962833921841365), ('confirmed', [(115, 124)], 0.08688633481156725), ('hepatocellular', [(125, 139)], 0.18729116785605615), ('carcinoma', [(140, 149)], 0.00986455357872321)], preserve_density=False, vec_name=None)], other=FeatureWeights(pos=[FeatureWeight(feature=<FormattedFeatureName 'Highlighted in text (sum)'>, weight=6.897960613554893, std=None, value=None)], neg=[FeatureWeight(feature='<BIAS>', weight=-9.112227498395114, std=None, value=1.0)], pos_remaining=0, neg_remaining=0)), heatmap=None), TargetExplanation(target='B-indications', feature_weights=FeatureWeights(pos=[FeatureWeight(feature='[5] pain', weight=1.4954671072452708, std=None, value=1.0), FeatureWeight(feature='[4] abdominal', weight=1.4782868069096986, std=None, value=1.0), FeatureWeight(feature='[7] vomiting', weight=0.25911179385312705, std=None, value=1.0), FeatureWeight(feature='[14] mass', weight=0.14137762889878458, std=None, value=1.0), FeatureWeight(feature='[20] confirmed', weight=0.13180960840729838, std=None, value=1.0), FeatureWeight(feature='[9] scan', weight=0.11479068106880996, std=None, value=1.0), FeatureWeight(feature='[3] severe', weight=0.11041158359411815, std=None, value=1.0), FeatureWeight(feature='[13] cm', weight=0.10515429695321461, std=None, value=1.0), FeatureWeight(feature='[22] carcinoma', weight=0.09788611658799962, std=None, value=1.0), FeatureWeight(feature='[18] Liver', weight=0.0786371036516032, std=None, value=1.0), FeatureWeight(feature='[11] a', weight=0.008268185080728836, std=None, value=1.0), FeatureWeight(feature='[8] CT', weight=0.004150689372388881, std=None, value=1.0)], neg=[FeatureWeight(feature='<BIAS>', weight=-6.529966091506556, std=None, value=1.0), FeatureWeight(feature='[0] Patient', weight=-0.11478917745244203, std=None, value=1.0), FeatureWeight(feature='[19] biopsy', weight=-0.009108471442255085, std=None, value=1.0)], pos_remaining=0, neg_remaining=0), proba=0.0697885333138329, score=-2.628512138778211, weighted_spans=WeightedSpans(docs_weighted_spans=[DocWeightedSpans(document='Patient presented with severe abdominal pain and vomiting. CT scan revealed a 5 cm mass in the liver. Liver biopsy confirmed hepatocellular carcinoma.', spans=[('Patient', [(0, 7)], -0.11478917745244203), ('severe', [(23, 29)], 0.11041158359411815), ('abdominal', [(30, 39)], 1.4782868069096986), ('pain', [(40, 44)], 1.4954671072452708), ('vomiting', [(49, 57)], 0.25911179385312705), ('CT', [(59, 61)], 0.004150689372388881), ('scan', [(62, 66)], 0.11479068106880996), ('a', [(76, 77)], 0.008268185080728836), ('cm', [(80, 82)], 0.10515429695321461), ('mass', [(83, 87)], 0.14137762889878458), ('Liver', [(102, 107)], 0.0786371036516032), ('biopsy', [(108, 114)], -0.009108471442255085), ('confirmed', [(115, 124)], 0.13180960840729838), ('carcinoma', [(140, 149)], 0.09788611658799962)], preserve_density=False, vec_name=None)], other=FeatureWeights(pos=[FeatureWeight(feature=<FormattedFeatureName 'Highlighted in text (sum)'>, weight=3.901453952728346, std=None, value=None)], neg=[FeatureWeight(feature='<BIAS>', weight=-6.529966091506556, std=None, value=1.0)], pos_remaining=0, neg_remaining=0)), heatmap=None)], feature_importances=None, decision_tree=None, highlight_spaces=None, transition_features=None, image=None)"
            ],
            "text/html": [
              "\n",
              "    <style>\n",
              "    table.eli5-weights tr:hover {\n",
              "        filter: brightness(85%);\n",
              "    }\n",
              "</style>\n",
              "\n",
              "\n",
              "\n",
              "    \n",
              "\n",
              "    \n",
              "\n",
              "    \n",
              "\n",
              "    \n",
              "\n",
              "    \n",
              "\n",
              "    \n",
              "\n",
              "\n",
              "    \n",
              "\n",
              "    \n",
              "\n",
              "    \n",
              "\n",
              "    \n",
              "        \n",
              "\n",
              "    \n",
              "\n",
              "    \n",
              "        \n",
              "    \n",
              "        \n",
              "        \n",
              "    \n",
              "        <p style=\"margin-bottom: 0.5em; margin-top: 0em\">\n",
              "            <b>\n",
              "    \n",
              "        y=O\n",
              "    \n",
              "</b>\n",
              "\n",
              "    \n",
              "    (probability <b>0.828</b>, score <b>1.379</b>)\n",
              "\n",
              "top features\n",
              "        </p>\n",
              "    \n",
              "    <table class=\"eli5-weights\"\n",
              "           style=\"border-collapse: collapse; border: none; margin-top: 0em; table-layout: auto; margin-bottom: 2em;\">\n",
              "        <thead>\n",
              "        <tr style=\"border: none;\">\n",
              "            \n",
              "                <th style=\"padding: 0 1em 0 0.5em; text-align: right; border: none;\" title=\"Feature contribution already accounts for the feature value (for linear models, contribution = weight * feature value), and the sum of feature contributions is equal to the score or, for some classifiers, to the probability. Feature values are shown if &quot;show_feature_values&quot; is True.\">\n",
              "                    Contribution<sup>?</sup>\n",
              "                </th>\n",
              "            \n",
              "            <th style=\"padding: 0 0.5em 0 0.5em; text-align: left; border: none;\">Feature</th>\n",
              "            \n",
              "        </tr>\n",
              "        </thead>\n",
              "        <tbody>\n",
              "        \n",
              "            <tr style=\"background-color: hsl(120, 100.00%, 82.43%); border: none;\">\n",
              "    <td style=\"padding: 0 1em 0 0.5em; text-align: right; border: none;\">\n",
              "        +7.575\n",
              "    </td>\n",
              "    <td style=\"padding: 0 0.5em 0 0.5em; text-align: left; border: none;\">\n",
              "        &lt;BIAS&gt;\n",
              "    </td>\n",
              "    \n",
              "</tr>\n",
              "        \n",
              "        \n",
              "\n",
              "        \n",
              "        \n",
              "            <tr style=\"background-color: hsl(0, 100.00%, 84.73%); border: none;\">\n",
              "    <td style=\"padding: 0 1em 0 0.5em; text-align: right; border: none;\">\n",
              "        -6.196\n",
              "    </td>\n",
              "    <td style=\"padding: 0 0.5em 0 0.5em; text-align: left; border: none;\">\n",
              "        Highlighted in text (sum)\n",
              "    </td>\n",
              "    \n",
              "</tr>\n",
              "        \n",
              "\n",
              "        </tbody>\n",
              "    </table>\n",
              "\n",
              "    \n",
              "\n",
              "\n",
              "\n",
              "    <p style=\"margin-bottom: 2.5em; margin-top:-0.5em;\">\n",
              "        <span style=\"background-color: hsl(120, 100.00%, 95.64%); opacity: 0.81\" title=\"0.080\">Patient</span><span style=\"opacity: 0.80\"> </span><span style=\"background-color: hsl(0, 100.00%, 83.96%); opacity: 0.85\" title=\"-0.516\">presented</span><span style=\"opacity: 0.80\"> </span><span style=\"background-color: hsl(0, 100.00%, 87.68%); opacity: 0.84\" title=\"-0.354\">with</span><span style=\"opacity: 0.80\"> </span><span style=\"background-color: hsl(0, 100.00%, 79.93%); opacity: 0.87\" title=\"-0.711\">severe</span><span style=\"opacity: 0.80\"> </span><span style=\"background-color: hsl(0, 100.00%, 60.00%); opacity: 1.00\" title=\"-1.904\">abdominal</span><span style=\"opacity: 0.80\"> </span><span style=\"background-color: hsl(0, 100.00%, 61.90%); opacity: 0.99\" title=\"-1.777\">pain</span><span style=\"opacity: 0.80\"> </span><span style=\"background-color: hsl(0, 100.00%, 94.60%); opacity: 0.81\" title=\"-0.109\">and</span><span style=\"opacity: 0.80\"> </span><span style=\"background-color: hsl(0, 100.00%, 90.95%); opacity: 0.82\" title=\"-0.228\">vomiting</span><span style=\"opacity: 0.80\">. </span><span style=\"background-color: hsl(0, 100.00%, 96.16%); opacity: 0.81\" title=\"-0.067\">CT</span><span style=\"opacity: 0.80\"> </span><span style=\"background-color: hsl(0, 100.00%, 94.50%); opacity: 0.81\" title=\"-0.112\">scan</span><span style=\"opacity: 0.80\"> </span><span style=\"background-color: hsl(0, 100.00%, 98.45%); opacity: 0.80\" title=\"-0.018\">revealed</span><span style=\"opacity: 0.80\"> </span><span style=\"background-color: hsl(0, 100.00%, 98.02%); opacity: 0.80\" title=\"-0.026\">a</span><span style=\"opacity: 0.80\"> 5 </span><span style=\"background-color: hsl(0, 100.00%, 94.44%); opacity: 0.81\" title=\"-0.113\">cm</span><span style=\"opacity: 0.80\"> </span><span style=\"background-color: hsl(0, 100.00%, 97.91%); opacity: 0.80\" title=\"-0.028\">mass</span><span style=\"opacity: 0.80\"> in </span><span style=\"background-color: hsl(0, 100.00%, 98.78%); opacity: 0.80\" title=\"-0.013\">the</span><span style=\"opacity: 0.80\"> </span><span style=\"background-color: hsl(0, 100.00%, 96.94%); opacity: 0.81\" title=\"-0.048\">liver</span><span style=\"opacity: 0.80\">. </span><span style=\"background-color: hsl(0, 100.00%, 96.57%); opacity: 0.81\" title=\"-0.057\">Liver</span><span style=\"opacity: 0.80\"> biopsy </span><span style=\"background-color: hsl(0, 100.00%, 93.85%); opacity: 0.81\" title=\"-0.131\">confirmed</span><span style=\"opacity: 0.80\"> </span><span style=\"background-color: hsl(0, 100.00%, 98.80%); opacity: 0.80\" title=\"-0.013\">hepatocellular</span><span style=\"opacity: 0.80\"> </span><span style=\"background-color: hsl(0, 100.00%, 96.90%); opacity: 0.81\" title=\"-0.049\">carcinoma</span><span style=\"opacity: 0.80\">.</span>\n",
              "    </p>\n",
              "\n",
              "    \n",
              "        \n",
              "    \n",
              "        \n",
              "        \n",
              "    \n",
              "        <p style=\"margin-bottom: 0.5em; margin-top: 0em\">\n",
              "            <b>\n",
              "    \n",
              "        y=I-indications\n",
              "    \n",
              "</b>\n",
              "\n",
              "    \n",
              "    (probability <b>0.102</b>, score <b>-2.214</b>)\n",
              "\n",
              "top features\n",
              "        </p>\n",
              "    \n",
              "    <table class=\"eli5-weights\"\n",
              "           style=\"border-collapse: collapse; border: none; margin-top: 0em; table-layout: auto; margin-bottom: 2em;\">\n",
              "        <thead>\n",
              "        <tr style=\"border: none;\">\n",
              "            \n",
              "                <th style=\"padding: 0 1em 0 0.5em; text-align: right; border: none;\" title=\"Feature contribution already accounts for the feature value (for linear models, contribution = weight * feature value), and the sum of feature contributions is equal to the score or, for some classifiers, to the probability. Feature values are shown if &quot;show_feature_values&quot; is True.\">\n",
              "                    Contribution<sup>?</sup>\n",
              "                </th>\n",
              "            \n",
              "            <th style=\"padding: 0 0.5em 0 0.5em; text-align: left; border: none;\">Feature</th>\n",
              "            \n",
              "        </tr>\n",
              "        </thead>\n",
              "        <tbody>\n",
              "        \n",
              "            <tr style=\"background-color: hsl(120, 100.00%, 83.54%); border: none;\">\n",
              "    <td style=\"padding: 0 1em 0 0.5em; text-align: right; border: none;\">\n",
              "        +6.898\n",
              "    </td>\n",
              "    <td style=\"padding: 0 0.5em 0 0.5em; text-align: left; border: none;\">\n",
              "        Highlighted in text (sum)\n",
              "    </td>\n",
              "    \n",
              "</tr>\n",
              "        \n",
              "        \n",
              "\n",
              "        \n",
              "        \n",
              "            <tr style=\"background-color: hsl(0, 100.00%, 80.00%); border: none;\">\n",
              "    <td style=\"padding: 0 1em 0 0.5em; text-align: right; border: none;\">\n",
              "        -9.112\n",
              "    </td>\n",
              "    <td style=\"padding: 0 0.5em 0 0.5em; text-align: left; border: none;\">\n",
              "        &lt;BIAS&gt;\n",
              "    </td>\n",
              "    \n",
              "</tr>\n",
              "        \n",
              "\n",
              "        </tbody>\n",
              "    </table>\n",
              "\n",
              "    \n",
              "\n",
              "\n",
              "\n",
              "    <p style=\"margin-bottom: 2.5em; margin-top:-0.5em;\">\n",
              "        <span style=\"opacity: 0.80\">Patient </span><span style=\"background-color: hsl(120, 100.00%, 74.23%); opacity: 0.91\" title=\"1.016\">presented</span><span style=\"opacity: 0.80\"> </span><span style=\"background-color: hsl(120, 100.00%, 78.45%); opacity: 0.88\" title=\"0.787\">with</span><span style=\"opacity: 0.80\"> </span><span style=\"background-color: hsl(120, 100.00%, 70.06%); opacity: 0.93\" title=\"1.259\">severe</span><span style=\"opacity: 0.80\"> </span><span style=\"background-color: hsl(120, 100.00%, 67.17%); opacity: 0.95\" title=\"1.436\">abdominal</span><span style=\"opacity: 0.80\"> </span><span style=\"background-color: hsl(120, 100.00%, 69.91%); opacity: 0.93\" title=\"1.268\">pain</span><span style=\"opacity: 0.80\"> </span><span style=\"background-color: hsl(120, 100.00%, 90.17%); opacity: 0.83\" title=\"0.257\">and</span><span style=\"opacity: 0.80\"> </span><span style=\"background-color: hsl(120, 100.00%, 94.35%); opacity: 0.81\" title=\"0.116\">vomiting</span><span style=\"opacity: 0.80\">. </span><span style=\"background-color: hsl(120, 100.00%, 95.54%); opacity: 0.81\" title=\"0.083\">CT</span><span style=\"opacity: 0.80\"> </span><span style=\"background-color: hsl(120, 100.00%, 96.65%); opacity: 0.81\" title=\"0.055\">scan</span><span style=\"opacity: 0.80\"> </span><span style=\"background-color: hsl(120, 100.00%, 97.45%); opacity: 0.80\" title=\"0.037\">revealed</span><span style=\"opacity: 0.80\"> </span><span style=\"background-color: hsl(120, 100.00%, 98.68%); opacity: 0.80\" title=\"0.015\">a</span><span style=\"opacity: 0.80\"> 5 </span><span style=\"background-color: hsl(120, 100.00%, 97.30%); opacity: 0.80\" title=\"0.041\">cm</span><span style=\"opacity: 0.80\"> mass </span><span style=\"background-color: hsl(120, 100.00%, 96.25%); opacity: 0.81\" title=\"0.065\">in</span><span style=\"opacity: 0.80\"> </span><span style=\"background-color: hsl(120, 100.00%, 98.38%); opacity: 0.80\" title=\"0.019\">the</span><span style=\"opacity: 0.80\"> </span><span style=\"background-color: hsl(120, 100.00%, 96.84%); opacity: 0.81\" title=\"0.051\">liver</span><span style=\"opacity: 0.80\">. </span><span style=\"background-color: hsl(120, 100.00%, 97.35%); opacity: 0.80\" title=\"0.039\">Liver</span><span style=\"opacity: 0.80\"> </span><span style=\"background-color: hsl(120, 100.00%, 96.05%); opacity: 0.81\" title=\"0.070\">biopsy</span><span style=\"opacity: 0.80\"> </span><span style=\"background-color: hsl(120, 100.00%, 95.39%); opacity: 0.81\" title=\"0.087\">confirmed</span><span style=\"opacity: 0.80\"> </span><span style=\"background-color: hsl(120, 100.00%, 92.11%); opacity: 0.82\" title=\"0.187\">hepatocellular</span><span style=\"opacity: 0.80\"> </span><span style=\"background-color: hsl(120, 100.00%, 99.00%); opacity: 0.80\" title=\"0.010\">carcinoma</span><span style=\"opacity: 0.80\">.</span>\n",
              "    </p>\n",
              "\n",
              "    \n",
              "        \n",
              "    \n",
              "        \n",
              "        \n",
              "    \n",
              "        <p style=\"margin-bottom: 0.5em; margin-top: 0em\">\n",
              "            <b>\n",
              "    \n",
              "        y=B-indications\n",
              "    \n",
              "</b>\n",
              "\n",
              "    \n",
              "    (probability <b>0.070</b>, score <b>-2.629</b>)\n",
              "\n",
              "top features\n",
              "        </p>\n",
              "    \n",
              "    <table class=\"eli5-weights\"\n",
              "           style=\"border-collapse: collapse; border: none; margin-top: 0em; table-layout: auto; margin-bottom: 2em;\">\n",
              "        <thead>\n",
              "        <tr style=\"border: none;\">\n",
              "            \n",
              "                <th style=\"padding: 0 1em 0 0.5em; text-align: right; border: none;\" title=\"Feature contribution already accounts for the feature value (for linear models, contribution = weight * feature value), and the sum of feature contributions is equal to the score or, for some classifiers, to the probability. Feature values are shown if &quot;show_feature_values&quot; is True.\">\n",
              "                    Contribution<sup>?</sup>\n",
              "                </th>\n",
              "            \n",
              "            <th style=\"padding: 0 0.5em 0 0.5em; text-align: left; border: none;\">Feature</th>\n",
              "            \n",
              "        </tr>\n",
              "        </thead>\n",
              "        <tbody>\n",
              "        \n",
              "            <tr style=\"background-color: hsl(120, 100.00%, 88.96%); border: none;\">\n",
              "    <td style=\"padding: 0 1em 0 0.5em; text-align: right; border: none;\">\n",
              "        +3.901\n",
              "    </td>\n",
              "    <td style=\"padding: 0 0.5em 0 0.5em; text-align: left; border: none;\">\n",
              "        Highlighted in text (sum)\n",
              "    </td>\n",
              "    \n",
              "</tr>\n",
              "        \n",
              "        \n",
              "\n",
              "        \n",
              "        \n",
              "            <tr style=\"background-color: hsl(0, 100.00%, 84.16%); border: none;\">\n",
              "    <td style=\"padding: 0 1em 0 0.5em; text-align: right; border: none;\">\n",
              "        -6.530\n",
              "    </td>\n",
              "    <td style=\"padding: 0 0.5em 0 0.5em; text-align: left; border: none;\">\n",
              "        &lt;BIAS&gt;\n",
              "    </td>\n",
              "    \n",
              "</tr>\n",
              "        \n",
              "\n",
              "        </tbody>\n",
              "    </table>\n",
              "\n",
              "    \n",
              "\n",
              "\n",
              "\n",
              "    <p style=\"margin-bottom: 2.5em; margin-top:-0.5em;\">\n",
              "        <span style=\"background-color: hsl(0, 100.00%, 94.40%); opacity: 0.81\" title=\"-0.115\">Patient</span><span style=\"opacity: 0.80\"> presented with </span><span style=\"background-color: hsl(120, 100.00%, 94.55%); opacity: 0.81\" title=\"0.110\">severe</span><span style=\"opacity: 0.80\"> </span><span style=\"background-color: hsl(120, 100.00%, 66.50%); opacity: 0.96\" title=\"1.478\">abdominal</span><span style=\"opacity: 0.80\"> </span><span style=\"background-color: hsl(120, 100.00%, 66.23%); opacity: 0.96\" title=\"1.495\">pain</span><span style=\"opacity: 0.80\"> and </span><span style=\"background-color: hsl(120, 100.00%, 90.10%); opacity: 0.83\" title=\"0.259\">vomiting</span><span style=\"opacity: 0.80\">. </span><span style=\"background-color: hsl(120, 100.00%, 99.45%); opacity: 0.80\" title=\"0.004\">CT</span><span style=\"opacity: 0.80\"> </span><span style=\"background-color: hsl(120, 100.00%, 94.40%); opacity: 0.81\" title=\"0.115\">scan</span><span style=\"opacity: 0.80\"> revealed </span><span style=\"background-color: hsl(120, 100.00%, 99.11%); opacity: 0.80\" title=\"0.008\">a</span><span style=\"opacity: 0.80\"> 5 </span><span style=\"background-color: hsl(120, 100.00%, 94.73%); opacity: 0.81\" title=\"0.105\">cm</span><span style=\"opacity: 0.80\"> </span><span style=\"background-color: hsl(120, 100.00%, 93.52%); opacity: 0.81\" title=\"0.141\">mass</span><span style=\"opacity: 0.80\"> in the liver. </span><span style=\"background-color: hsl(120, 100.00%, 95.70%); opacity: 0.81\" title=\"0.079\">Liver</span><span style=\"opacity: 0.80\"> </span><span style=\"background-color: hsl(0, 100.00%, 99.05%); opacity: 0.80\" title=\"-0.009\">biopsy</span><span style=\"opacity: 0.80\"> </span><span style=\"background-color: hsl(120, 100.00%, 93.83%); opacity: 0.81\" title=\"0.132\">confirmed</span><span style=\"opacity: 0.80\"> hepatocellular </span><span style=\"background-color: hsl(120, 100.00%, 94.99%); opacity: 0.81\" title=\"0.098\">carcinoma</span><span style=\"opacity: 0.80\">.</span>\n",
              "    </p>\n",
              "\n",
              "    \n",
              "\n",
              "\n",
              "    \n",
              "\n",
              "    \n",
              "\n",
              "    \n",
              "\n",
              "\n",
              "    \n",
              "\n",
              "    \n",
              "\n",
              "    \n",
              "\n",
              "    \n",
              "\n",
              "    \n",
              "\n",
              "    \n",
              "\n",
              "\n",
              "    \n",
              "\n",
              "    \n",
              "\n",
              "    \n",
              "\n",
              "    \n",
              "\n",
              "    \n",
              "\n",
              "    \n",
              "\n",
              "\n",
              "\n"
            ]
          },
          "metadata": {},
          "execution_count": 108
        }
      ]
    }
  ]
}